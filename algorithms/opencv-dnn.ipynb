{
 "cells": [
  {
   "cell_type": "code",
   "execution_count": null,
   "metadata": {
    "collapsed": true
   },
   "outputs": [],
   "source": [
    "import cv2 as cv\n",
    "import numpy as np\n",
    "\n",
    "from matplotlib import pyplot as plt\n",
    "\n",
    "prototxt = \"hed/deploy.prototxt\"\n",
    "weights = \"hed/hed_pretrained_bsds.caffemodel\"\n",
    "\n",
    "img = cv.imread(\"images/receipt_1.jpg\")\n",
    "\n",
    "\n",
    "blob = cv.dnn.blobFromImage(img,\n",
    "                            scalefactor=1.0,\n",
    "                            size=(img.shape[1],img.shape[0]), swapRB=False, crop=False)\n",
    "net = cv.dnn.readNetFromCaffe(prototxt, weights)"
   ]
  },
  {
   "cell_type": "code",
   "execution_count": null,
   "outputs": [],
   "source": [
    "def compareImages(original: object, edited: object) -> object:\n",
    "    plt.figure(figsize=(10, 30))\n",
    "    plt.subplot(121), plt.imshow(original, cmap='gray')\n",
    "    plt.title('Original Image'), plt.xticks([]), plt.yticks([])\n",
    "    plt.subplot(122),plt.imshow(edited,cmap = 'gray')\n",
    "    plt.title('Edited Image'), plt.xticks([]), plt.yticks([])\n",
    "    plt.show()"
   ],
   "metadata": {
    "collapsed": false
   }
  },
  {
   "cell_type": "code",
   "execution_count": null,
   "outputs": [],
   "source": [
    "net.setInput(blob)\n",
    "hed = net.forward()"
   ],
   "metadata": {
    "collapsed": false
   }
  },
  {
   "cell_type": "code",
   "execution_count": null,
   "outputs": [],
   "source": [
    "hed_resized = cv.resize(hed[0, 0], (img.shape[1],img.shape[0]))\n",
    "hed_resized = (255 * hed_resized).astype(\"uint8\")"
   ],
   "metadata": {
    "collapsed": false
   }
  },
  {
   "cell_type": "markdown",
   "source": [],
   "metadata": {
    "collapsed": false
   }
  },
  {
   "cell_type": "code",
   "execution_count": null,
   "outputs": [],
   "source": [
    "hed_binary = cv.threshold(hed_resized, 0, 255, cv.THRESH_BINARY + cv.THRESH_OTSU)[1]"
   ],
   "metadata": {
    "collapsed": false
   }
  },
  {
   "cell_type": "code",
   "execution_count": null,
   "outputs": [],
   "source": [
    "lines = cv.HoughLinesP(hed_binary, rho=1, theta=1*np.pi/180, threshold=2300, minLineLength=1000, maxLineGap=10)\n",
    "for i in range(lines.shape[0]):\n",
    "    x1 = lines[i][0][0]\n",
    "    y1 = lines[i][0][1]\n",
    "    x2 = lines[i][0][2]\n",
    "    y2 = lines[i][0][3]\n",
    "\n",
    "    cv.line(img, (x1, y1), (x2, y2), (0, 0, 255), 2)\n",
    "\n"
   ],
   "metadata": {
    "collapsed": false
   }
  },
  {
   "cell_type": "code",
   "execution_count": null,
   "outputs": [],
   "source": [
    "compareImages(img, img)"
   ],
   "metadata": {
    "collapsed": false
   }
  }
 ],
 "metadata": {
  "kernelspec": {
   "display_name": "Python 3",
   "language": "python",
   "name": "python3"
  },
  "language_info": {
   "codemirror_mode": {
    "name": "ipython",
    "version": 2
   },
   "file_extension": ".py",
   "mimetype": "text/x-python",
   "name": "python",
   "nbconvert_exporter": "python",
   "pygments_lexer": "ipython2",
   "version": "2.7.6"
  }
 },
 "nbformat": 4,
 "nbformat_minor": 0
}
