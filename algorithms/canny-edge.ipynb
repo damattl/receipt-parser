{
 "cells": [
  {
   "cell_type": "code",
   "execution_count": null,
   "metadata": {
    "collapsed": true
   },
   "outputs": [],
   "source": [
    "from utilities import compareImages, resize\n",
    "import cv2 as cv\n"
   ]
  },
  {
   "cell_type": "code",
   "execution_count": null,
   "outputs": [],
   "source": [
    "img = cv.imread(\"images/receipt_2.jpg\", cv.IMREAD_GRAYSCALE)\n",
    "\n",
    "original = img.copy()\n",
    "img = resize(img, 500 / img.shape[0])"
   ],
   "metadata": {
    "collapsed": false
   }
  },
  {
   "cell_type": "code",
   "execution_count": null,
   "outputs": [],
   "source": [
    "blurred = cv.GaussianBlur(img, (5, 5), 1)\n",
    "dilate_kernel = cv.getStructuringElement(cv.MORPH_RECT, (9, 9))\n",
    "dilated = cv.dilate(blurred, dilate_kernel)\n",
    "compareImages(dilated, 255-dilated)"
   ],
   "metadata": {
    "collapsed": false
   }
  },
  {
   "cell_type": "code",
   "execution_count": null,
   "outputs": [],
   "source": [
    "import numpy as np\n",
    "\n",
    "morph_kernel = np.ones((5,5),np.uint8)\n",
    "morphed = cv.morphologyEx(blurred, cv.MORPH_CLOSE, morph_kernel, iterations=4)\n",
    "compareImages(morphed, 255 - morphed)"
   ],
   "metadata": {
    "collapsed": false
   }
  },
  {
   "cell_type": "code",
   "execution_count": null,
   "outputs": [],
   "source": [
    "\n",
    "canny = cv.Canny(dilated, 100, 200, apertureSize=3)\n",
    "compareImages(canny, dilated)\n"
   ],
   "metadata": {
    "collapsed": false
   }
  },
  {
   "cell_type": "code",
   "execution_count": null,
   "outputs": [],
   "source": [
    "import random\n",
    "\n",
    "contours, _ = cv.findContours(canny, cv.RETR_LIST, cv.CHAIN_APPROX_SIMPLE)\n",
    "\n",
    "contours = sorted(contours, key=cv.contourArea, reverse=True)\n",
    "\n",
    "contourImage = cv.cvtColor(img.copy(), cv.COLOR_GRAY2BGR)\n",
    "for contour in contours:\n",
    "    cv.drawContours(contourImage, [contour], 0, (random.uniform(0, 255), random.uniform(0, 255), random.uniform(0, 255)))\n",
    "\n",
    "compareImages(img, contourImage)"
   ],
   "metadata": {
    "collapsed": false
   }
  },
  {
   "cell_type": "code",
   "execution_count": null,
   "outputs": [],
   "source": [
    "candidates = []\n",
    "for contour in contours:\n",
    "    peri = cv.arcLength(contour, True)\n",
    "    approx = cv.approxPolyDP(contour, 0.032 * peri, True)\n",
    "    if len(approx) == 4:\n",
    "        candidates.append(approx)\n"
   ],
   "metadata": {
    "collapsed": false
   }
  },
  {
   "cell_type": "code",
   "execution_count": null,
   "outputs": [],
   "source": [
    "cornersGray = img.copy()\n",
    "corners = cv.cvtColor(cornersGray, cv.COLOR_GRAY2BGR)\n",
    "\n",
    "cv.drawContours(corners, candidates[0], -1, (255, 0, 0), 10)\n",
    "compareImages(img, corners)\n",
    "\n",
    "print(candidates[0])"
   ],
   "metadata": {
    "collapsed": false
   }
  },
  {
   "cell_type": "code",
   "execution_count": null,
   "outputs": [],
   "source": [
    "from imutils.perspective import four_point_transform\n",
    "\n",
    "warped = four_point_transform(original, candidates[0].reshape(4, 2))\n",
    "\n",
    "compareImages(img, warped)"
   ],
   "metadata": {
    "collapsed": false
   }
  },
  {
   "cell_type": "code",
   "execution_count": null,
   "outputs": [],
   "source": [],
   "metadata": {
    "collapsed": false
   }
  }
 ],
 "metadata": {
  "kernelspec": {
   "display_name": "Python 3",
   "language": "python",
   "name": "python3"
  },
  "language_info": {
   "codemirror_mode": {
    "name": "ipython",
    "version": 2
   },
   "file_extension": ".py",
   "mimetype": "text/x-python",
   "name": "python",
   "nbconvert_exporter": "python",
   "pygments_lexer": "ipython2",
   "version": "2.7.6"
  }
 },
 "nbformat": 4,
 "nbformat_minor": 0
}
